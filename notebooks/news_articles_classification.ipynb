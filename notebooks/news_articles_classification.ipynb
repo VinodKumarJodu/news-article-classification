{
 "cells": [
  {
   "cell_type": "markdown",
   "metadata": {},
   "source": [
    "# Problem Statement:\n",
    "In today’s world, data is power. With News companies having terabytes of data stored in\n",
    "servers, everyone is in the quest to discover insights that add value to the organization.\n",
    "With various examples to quote in which analytics is being used to drive actions, one that\n",
    "stands out is news article classification.\n",
    "Nowadays on the Internet there are a lot of sources that generate immense amounts of\n",
    "daily news. In addition, the demand for information by users has been growing\n",
    "continuously, so it is crucial that the news is classified to allow users to access the\n",
    "information of interest quickly and effectively. This way, the machine learning model for\n",
    "automated news classification could be used to identify topics of untracked news and/or\n",
    "make individual suggestions based on the user’s prior interests."
   ]
  },
  {
   "cell_type": "markdown",
   "metadata": {},
   "source": [
    "## EDA"
   ]
  },
  {
   "cell_type": "code",
   "execution_count": 21,
   "metadata": {},
   "outputs": [
    {
     "name": "stderr",
     "output_type": "stream",
     "text": [
      "[nltk_data] Downloading package stopwords to /config/nltk_data...\n",
      "[nltk_data]   Package stopwords is already up-to-date!\n",
      "[nltk_data] Downloading package wordnet to /config/nltk_data...\n",
      "[nltk_data]   Package wordnet is already up-to-date!\n",
      "[nltk_data] Downloading package punkt to /config/nltk_data...\n",
      "[nltk_data]   Package punkt is already up-to-date!\n"
     ]
    }
   ],
   "source": [
    "import os\n",
    "import pandas as pd\n",
    "import matplotlib.pyplot as plt\n",
    "import numpy as np\n",
    "import seaborn as sns\n",
    "import string\n",
    "import warnings\n",
    "warnings.filterwarnings('ignore')\n",
    "import nltk\n",
    "from nltk.corpus import stopwords\n",
    "import gensim\n",
    "import wordcloud\n",
    "import textblob\n",
    "import spacy\n",
    "import textstat\n",
    "import pyLDAvis\n",
    "\n",
    "nltk.download('stopwords')\n",
    "nltk.download('wordnet')\n",
    "nltk.download('punkt')\n",
    "\n",
    "stop = stopwords.words('english')"
   ]
  },
  {
   "cell_type": "code",
   "execution_count": 22,
   "metadata": {},
   "outputs": [
    {
     "data": {
      "text/html": [
       "<div>\n",
       "<style scoped>\n",
       "    .dataframe tbody tr th:only-of-type {\n",
       "        vertical-align: middle;\n",
       "    }\n",
       "\n",
       "    .dataframe tbody tr th {\n",
       "        vertical-align: top;\n",
       "    }\n",
       "\n",
       "    .dataframe thead th {\n",
       "        text-align: right;\n",
       "    }\n",
       "</style>\n",
       "<table border=\"1\" class=\"dataframe\">\n",
       "  <thead>\n",
       "    <tr style=\"text-align: right;\">\n",
       "      <th></th>\n",
       "      <th>articleid</th>\n",
       "      <th>text</th>\n",
       "      <th>category</th>\n",
       "    </tr>\n",
       "  </thead>\n",
       "  <tbody>\n",
       "    <tr>\n",
       "      <th>0</th>\n",
       "      <td>1833</td>\n",
       "      <td>worldcom ex-boss launches defence lawyers defe...</td>\n",
       "      <td>business</td>\n",
       "    </tr>\n",
       "    <tr>\n",
       "      <th>1</th>\n",
       "      <td>154</td>\n",
       "      <td>german business confidence slides german busin...</td>\n",
       "      <td>business</td>\n",
       "    </tr>\n",
       "    <tr>\n",
       "      <th>2</th>\n",
       "      <td>1101</td>\n",
       "      <td>bbc poll indicates economic gloom citizens in ...</td>\n",
       "      <td>business</td>\n",
       "    </tr>\n",
       "    <tr>\n",
       "      <th>3</th>\n",
       "      <td>1976</td>\n",
       "      <td>lifestyle  governs mobile choice  faster  bett...</td>\n",
       "      <td>tech</td>\n",
       "    </tr>\n",
       "    <tr>\n",
       "      <th>4</th>\n",
       "      <td>917</td>\n",
       "      <td>enron bosses in $168m payout eighteen former e...</td>\n",
       "      <td>business</td>\n",
       "    </tr>\n",
       "  </tbody>\n",
       "</table>\n",
       "</div>"
      ],
      "text/plain": [
       "   articleid                                               text  category\n",
       "0       1833  worldcom ex-boss launches defence lawyers defe...  business\n",
       "1        154  german business confidence slides german busin...  business\n",
       "2       1101  bbc poll indicates economic gloom citizens in ...  business\n",
       "3       1976  lifestyle  governs mobile choice  faster  bett...      tech\n",
       "4        917  enron bosses in $168m payout eighteen former e...  business"
      ]
     },
     "execution_count": 22,
     "metadata": {},
     "output_type": "execute_result"
    }
   ],
   "source": [
    "df = pd.read_csv(\"/config/workspace/source/train/train.csv\")\n",
    "df.columns = [column.lower() for column in df.columns]\n",
    "df.head()"
   ]
  },
  {
   "cell_type": "code",
   "execution_count": 23,
   "metadata": {},
   "outputs": [
    {
     "name": "stdout",
     "output_type": "stream",
     "text": [
      "<class 'pandas.core.frame.DataFrame'>\n",
      "RangeIndex: 1490 entries, 0 to 1489\n",
      "Data columns (total 3 columns):\n",
      " #   Column     Non-Null Count  Dtype \n",
      "---  ------     --------------  ----- \n",
      " 0   articleid  1490 non-null   int64 \n",
      " 1   text       1490 non-null   object\n",
      " 2   category   1490 non-null   object\n",
      "dtypes: int64(1), object(2)\n",
      "memory usage: 35.0+ KB\n"
     ]
    }
   ],
   "source": [
    "df.info()"
   ]
  },
  {
   "cell_type": "code",
   "execution_count": 24,
   "metadata": {},
   "outputs": [
    {
     "data": {
      "text/plain": [
       "articleid    0\n",
       "text         0\n",
       "category     0\n",
       "dtype: int64"
      ]
     },
     "execution_count": 24,
     "metadata": {},
     "output_type": "execute_result"
    }
   ],
   "source": [
    "def null_count(df):\n",
    "    return df.isna().sum()\n",
    "\n",
    "null_count(df)"
   ]
  },
  {
   "cell_type": "markdown",
   "metadata": {},
   "source": [
    "### Count the Stop Words"
   ]
  },
  {
   "cell_type": "code",
   "execution_count": 25,
   "metadata": {},
   "outputs": [
    {
     "data": {
      "text/html": [
       "<div>\n",
       "<style scoped>\n",
       "    .dataframe tbody tr th:only-of-type {\n",
       "        vertical-align: middle;\n",
       "    }\n",
       "\n",
       "    .dataframe tbody tr th {\n",
       "        vertical-align: top;\n",
       "    }\n",
       "\n",
       "    .dataframe thead th {\n",
       "        text-align: right;\n",
       "    }\n",
       "</style>\n",
       "<table border=\"1\" class=\"dataframe\">\n",
       "  <thead>\n",
       "    <tr style=\"text-align: right;\">\n",
       "      <th></th>\n",
       "      <th>text</th>\n",
       "      <th>stopwords</th>\n",
       "    </tr>\n",
       "  </thead>\n",
       "  <tbody>\n",
       "    <tr>\n",
       "      <th>0</th>\n",
       "      <td>worldcom ex-boss launches defence lawyers defe...</td>\n",
       "      <td>108</td>\n",
       "    </tr>\n",
       "    <tr>\n",
       "      <th>1</th>\n",
       "      <td>german business confidence slides german busin...</td>\n",
       "      <td>120</td>\n",
       "    </tr>\n",
       "    <tr>\n",
       "      <th>2</th>\n",
       "      <td>bbc poll indicates economic gloom citizens in ...</td>\n",
       "      <td>220</td>\n",
       "    </tr>\n",
       "    <tr>\n",
       "      <th>3</th>\n",
       "      <td>lifestyle  governs mobile choice  faster  bett...</td>\n",
       "      <td>276</td>\n",
       "    </tr>\n",
       "    <tr>\n",
       "      <th>4</th>\n",
       "      <td>enron bosses in $168m payout eighteen former e...</td>\n",
       "      <td>142</td>\n",
       "    </tr>\n",
       "    <tr>\n",
       "      <th>...</th>\n",
       "      <td>...</td>\n",
       "      <td>...</td>\n",
       "    </tr>\n",
       "    <tr>\n",
       "      <th>1485</th>\n",
       "      <td>double eviction from big brother model caprice...</td>\n",
       "      <td>97</td>\n",
       "    </tr>\n",
       "    <tr>\n",
       "      <th>1486</th>\n",
       "      <td>dj double act revamp chart show dj duo jk and ...</td>\n",
       "      <td>237</td>\n",
       "    </tr>\n",
       "    <tr>\n",
       "      <th>1487</th>\n",
       "      <td>weak dollar hits reuters revenues at media gro...</td>\n",
       "      <td>87</td>\n",
       "    </tr>\n",
       "    <tr>\n",
       "      <th>1488</th>\n",
       "      <td>apple ipod family expands market apple has exp...</td>\n",
       "      <td>230</td>\n",
       "    </tr>\n",
       "    <tr>\n",
       "      <th>1489</th>\n",
       "      <td>santy worm makes unwelcome visit thousands of ...</td>\n",
       "      <td>121</td>\n",
       "    </tr>\n",
       "  </tbody>\n",
       "</table>\n",
       "<p>1490 rows × 2 columns</p>\n",
       "</div>"
      ],
      "text/plain": [
       "                                                   text  stopwords\n",
       "0     worldcom ex-boss launches defence lawyers defe...        108\n",
       "1     german business confidence slides german busin...        120\n",
       "2     bbc poll indicates economic gloom citizens in ...        220\n",
       "3     lifestyle  governs mobile choice  faster  bett...        276\n",
       "4     enron bosses in $168m payout eighteen former e...        142\n",
       "...                                                 ...        ...\n",
       "1485  double eviction from big brother model caprice...         97\n",
       "1486  dj double act revamp chart show dj duo jk and ...        237\n",
       "1487  weak dollar hits reuters revenues at media gro...         87\n",
       "1488  apple ipod family expands market apple has exp...        230\n",
       "1489  santy worm makes unwelcome visit thousands of ...        121\n",
       "\n",
       "[1490 rows x 2 columns]"
      ]
     },
     "execution_count": 25,
     "metadata": {},
     "output_type": "execute_result"
    }
   ],
   "source": [
    "df['stopwords'] = df['text'].apply(lambda x: len([x for x in x.split() if x in stop]))\n",
    "df[['text', 'stopwords']]\n"
   ]
  },
  {
   "cell_type": "markdown",
   "metadata": {},
   "source": [
    "### Number of Punctuations"
   ]
  },
  {
   "cell_type": "code",
   "execution_count": 26,
   "metadata": {},
   "outputs": [],
   "source": [
    "def count_punct(text):\n",
    "    count = sum([1 for char in text if char in string.punctuation])\n",
    "    return count\n",
    "\n",
    "df['punctuations'] = df['text'].apply(lambda x: count_punct(x))"
   ]
  },
  {
   "cell_type": "code",
   "execution_count": 27,
   "metadata": {},
   "outputs": [
    {
     "data": {
      "text/html": [
       "<div>\n",
       "<style scoped>\n",
       "    .dataframe tbody tr th:only-of-type {\n",
       "        vertical-align: middle;\n",
       "    }\n",
       "\n",
       "    .dataframe tbody tr th {\n",
       "        vertical-align: top;\n",
       "    }\n",
       "\n",
       "    .dataframe thead th {\n",
       "        text-align: right;\n",
       "    }\n",
       "</style>\n",
       "<table border=\"1\" class=\"dataframe\">\n",
       "  <thead>\n",
       "    <tr style=\"text-align: right;\">\n",
       "      <th></th>\n",
       "      <th>text</th>\n",
       "      <th>punctuations</th>\n",
       "    </tr>\n",
       "  </thead>\n",
       "  <tbody>\n",
       "    <tr>\n",
       "      <th>0</th>\n",
       "      <td>worldcom ex-boss launches defence lawyers defe...</td>\n",
       "      <td>22</td>\n",
       "    </tr>\n",
       "    <tr>\n",
       "      <th>1</th>\n",
       "      <td>german business confidence slides german busin...</td>\n",
       "      <td>25</td>\n",
       "    </tr>\n",
       "    <tr>\n",
       "      <th>2</th>\n",
       "      <td>bbc poll indicates economic gloom citizens in ...</td>\n",
       "      <td>36</td>\n",
       "    </tr>\n",
       "    <tr>\n",
       "      <th>3</th>\n",
       "      <td>lifestyle  governs mobile choice  faster  bett...</td>\n",
       "      <td>42</td>\n",
       "    </tr>\n",
       "    <tr>\n",
       "      <th>4</th>\n",
       "      <td>enron bosses in $168m payout eighteen former e...</td>\n",
       "      <td>31</td>\n",
       "    </tr>\n",
       "    <tr>\n",
       "      <th>...</th>\n",
       "      <td>...</td>\n",
       "      <td>...</td>\n",
       "    </tr>\n",
       "    <tr>\n",
       "      <th>1485</th>\n",
       "      <td>double eviction from big brother model caprice...</td>\n",
       "      <td>22</td>\n",
       "    </tr>\n",
       "    <tr>\n",
       "      <th>1486</th>\n",
       "      <td>dj double act revamp chart show dj duo jk and ...</td>\n",
       "      <td>35</td>\n",
       "    </tr>\n",
       "    <tr>\n",
       "      <th>1487</th>\n",
       "      <td>weak dollar hits reuters revenues at media gro...</td>\n",
       "      <td>24</td>\n",
       "    </tr>\n",
       "    <tr>\n",
       "      <th>1488</th>\n",
       "      <td>apple ipod family expands market apple has exp...</td>\n",
       "      <td>33</td>\n",
       "    </tr>\n",
       "    <tr>\n",
       "      <th>1489</th>\n",
       "      <td>santy worm makes unwelcome visit thousands of ...</td>\n",
       "      <td>17</td>\n",
       "    </tr>\n",
       "  </tbody>\n",
       "</table>\n",
       "<p>1490 rows × 2 columns</p>\n",
       "</div>"
      ],
      "text/plain": [
       "                                                   text  punctuations\n",
       "0     worldcom ex-boss launches defence lawyers defe...            22\n",
       "1     german business confidence slides german busin...            25\n",
       "2     bbc poll indicates economic gloom citizens in ...            36\n",
       "3     lifestyle  governs mobile choice  faster  bett...            42\n",
       "4     enron bosses in $168m payout eighteen former e...            31\n",
       "...                                                 ...           ...\n",
       "1485  double eviction from big brother model caprice...            22\n",
       "1486  dj double act revamp chart show dj duo jk and ...            35\n",
       "1487  weak dollar hits reuters revenues at media gro...            24\n",
       "1488  apple ipod family expands market apple has exp...            33\n",
       "1489  santy worm makes unwelcome visit thousands of ...            17\n",
       "\n",
       "[1490 rows x 2 columns]"
      ]
     },
     "execution_count": 27,
     "metadata": {},
     "output_type": "execute_result"
    }
   ],
   "source": [
    "df[['text','punctuations']]"
   ]
  },
  {
   "cell_type": "markdown",
   "metadata": {},
   "source": [
    "### Number of Numerics"
   ]
  },
  {
   "cell_type": "code",
   "execution_count": 29,
   "metadata": {},
   "outputs": [
    {
     "data": {
      "text/html": [
       "<div>\n",
       "<style scoped>\n",
       "    .dataframe tbody tr th:only-of-type {\n",
       "        vertical-align: middle;\n",
       "    }\n",
       "\n",
       "    .dataframe tbody tr th {\n",
       "        vertical-align: top;\n",
       "    }\n",
       "\n",
       "    .dataframe thead th {\n",
       "        text-align: right;\n",
       "    }\n",
       "</style>\n",
       "<table border=\"1\" class=\"dataframe\">\n",
       "  <thead>\n",
       "    <tr style=\"text-align: right;\">\n",
       "      <th></th>\n",
       "      <th>text</th>\n",
       "      <th>numerics</th>\n",
       "    </tr>\n",
       "  </thead>\n",
       "  <tbody>\n",
       "    <tr>\n",
       "      <th>0</th>\n",
       "      <td>worldcom ex-boss launches defence lawyers defe...</td>\n",
       "      <td>4</td>\n",
       "    </tr>\n",
       "    <tr>\n",
       "      <th>1</th>\n",
       "      <td>german business confidence slides german busin...</td>\n",
       "      <td>2</td>\n",
       "    </tr>\n",
       "    <tr>\n",
       "      <th>2</th>\n",
       "      <td>bbc poll indicates economic gloom citizens in ...</td>\n",
       "      <td>17</td>\n",
       "    </tr>\n",
       "    <tr>\n",
       "      <th>3</th>\n",
       "      <td>lifestyle  governs mobile choice  faster  bett...</td>\n",
       "      <td>4</td>\n",
       "    </tr>\n",
       "    <tr>\n",
       "      <th>4</th>\n",
       "      <td>enron bosses in $168m payout eighteen former e...</td>\n",
       "      <td>3</td>\n",
       "    </tr>\n",
       "    <tr>\n",
       "      <th>...</th>\n",
       "      <td>...</td>\n",
       "      <td>...</td>\n",
       "    </tr>\n",
       "    <tr>\n",
       "      <th>1485</th>\n",
       "      <td>double eviction from big brother model caprice...</td>\n",
       "      <td>2</td>\n",
       "    </tr>\n",
       "    <tr>\n",
       "      <th>1486</th>\n",
       "      <td>dj double act revamp chart show dj duo jk and ...</td>\n",
       "      <td>7</td>\n",
       "    </tr>\n",
       "    <tr>\n",
       "      <th>1487</th>\n",
       "      <td>weak dollar hits reuters revenues at media gro...</td>\n",
       "      <td>7</td>\n",
       "    </tr>\n",
       "    <tr>\n",
       "      <th>1488</th>\n",
       "      <td>apple ipod family expands market apple has exp...</td>\n",
       "      <td>9</td>\n",
       "    </tr>\n",
       "    <tr>\n",
       "      <th>1489</th>\n",
       "      <td>santy worm makes unwelcome visit thousands of ...</td>\n",
       "      <td>7</td>\n",
       "    </tr>\n",
       "  </tbody>\n",
       "</table>\n",
       "<p>1490 rows × 2 columns</p>\n",
       "</div>"
      ],
      "text/plain": [
       "                                                   text  numerics\n",
       "0     worldcom ex-boss launches defence lawyers defe...         4\n",
       "1     german business confidence slides german busin...         2\n",
       "2     bbc poll indicates economic gloom citizens in ...        17\n",
       "3     lifestyle  governs mobile choice  faster  bett...         4\n",
       "4     enron bosses in $168m payout eighteen former e...         3\n",
       "...                                                 ...       ...\n",
       "1485  double eviction from big brother model caprice...         2\n",
       "1486  dj double act revamp chart show dj duo jk and ...         7\n",
       "1487  weak dollar hits reuters revenues at media gro...         7\n",
       "1488  apple ipod family expands market apple has exp...         9\n",
       "1489  santy worm makes unwelcome visit thousands of ...         7\n",
       "\n",
       "[1490 rows x 2 columns]"
      ]
     },
     "execution_count": 29,
     "metadata": {},
     "output_type": "execute_result"
    }
   ],
   "source": [
    "df['numerics'] = df['text'].apply(lambda x: len([x for x in x.split() if x.isdigit()]))\n",
    "df[['text','numerics']]"
   ]
  },
  {
   "cell_type": "markdown",
   "metadata": {},
   "source": [
    "### Number of Upper Case Words"
   ]
  },
  {
   "cell_type": "code",
   "execution_count": 30,
   "metadata": {},
   "outputs": [
    {
     "data": {
      "text/html": [
       "<div>\n",
       "<style scoped>\n",
       "    .dataframe tbody tr th:only-of-type {\n",
       "        vertical-align: middle;\n",
       "    }\n",
       "\n",
       "    .dataframe tbody tr th {\n",
       "        vertical-align: top;\n",
       "    }\n",
       "\n",
       "    .dataframe thead th {\n",
       "        text-align: right;\n",
       "    }\n",
       "</style>\n",
       "<table border=\"1\" class=\"dataframe\">\n",
       "  <thead>\n",
       "    <tr style=\"text-align: right;\">\n",
       "      <th></th>\n",
       "      <th>text</th>\n",
       "      <th>upper</th>\n",
       "    </tr>\n",
       "  </thead>\n",
       "  <tbody>\n",
       "    <tr>\n",
       "      <th>0</th>\n",
       "      <td>worldcom ex-boss launches defence lawyers defe...</td>\n",
       "      <td>0</td>\n",
       "    </tr>\n",
       "    <tr>\n",
       "      <th>1</th>\n",
       "      <td>german business confidence slides german busin...</td>\n",
       "      <td>0</td>\n",
       "    </tr>\n",
       "    <tr>\n",
       "      <th>2</th>\n",
       "      <td>bbc poll indicates economic gloom citizens in ...</td>\n",
       "      <td>0</td>\n",
       "    </tr>\n",
       "    <tr>\n",
       "      <th>3</th>\n",
       "      <td>lifestyle  governs mobile choice  faster  bett...</td>\n",
       "      <td>0</td>\n",
       "    </tr>\n",
       "    <tr>\n",
       "      <th>4</th>\n",
       "      <td>enron bosses in $168m payout eighteen former e...</td>\n",
       "      <td>0</td>\n",
       "    </tr>\n",
       "    <tr>\n",
       "      <th>...</th>\n",
       "      <td>...</td>\n",
       "      <td>...</td>\n",
       "    </tr>\n",
       "    <tr>\n",
       "      <th>1485</th>\n",
       "      <td>double eviction from big brother model caprice...</td>\n",
       "      <td>0</td>\n",
       "    </tr>\n",
       "    <tr>\n",
       "      <th>1486</th>\n",
       "      <td>dj double act revamp chart show dj duo jk and ...</td>\n",
       "      <td>0</td>\n",
       "    </tr>\n",
       "    <tr>\n",
       "      <th>1487</th>\n",
       "      <td>weak dollar hits reuters revenues at media gro...</td>\n",
       "      <td>0</td>\n",
       "    </tr>\n",
       "    <tr>\n",
       "      <th>1488</th>\n",
       "      <td>apple ipod family expands market apple has exp...</td>\n",
       "      <td>0</td>\n",
       "    </tr>\n",
       "    <tr>\n",
       "      <th>1489</th>\n",
       "      <td>santy worm makes unwelcome visit thousands of ...</td>\n",
       "      <td>0</td>\n",
       "    </tr>\n",
       "  </tbody>\n",
       "</table>\n",
       "<p>1490 rows × 2 columns</p>\n",
       "</div>"
      ],
      "text/plain": [
       "                                                   text  upper\n",
       "0     worldcom ex-boss launches defence lawyers defe...      0\n",
       "1     german business confidence slides german busin...      0\n",
       "2     bbc poll indicates economic gloom citizens in ...      0\n",
       "3     lifestyle  governs mobile choice  faster  bett...      0\n",
       "4     enron bosses in $168m payout eighteen former e...      0\n",
       "...                                                 ...    ...\n",
       "1485  double eviction from big brother model caprice...      0\n",
       "1486  dj double act revamp chart show dj duo jk and ...      0\n",
       "1487  weak dollar hits reuters revenues at media gro...      0\n",
       "1488  apple ipod family expands market apple has exp...      0\n",
       "1489  santy worm makes unwelcome visit thousands of ...      0\n",
       "\n",
       "[1490 rows x 2 columns]"
      ]
     },
     "execution_count": 30,
     "metadata": {},
     "output_type": "execute_result"
    }
   ],
   "source": [
    "df['upper'] = df['text'].apply(lambda x: len([x for x in x.split() if x.isupper()]))\n",
    "df[['text', 'upper']]"
   ]
  },
  {
   "cell_type": "markdown",
   "metadata": {},
   "source": [
    "## Data Cleaning"
   ]
  },
  {
   "cell_type": "markdown",
   "metadata": {},
   "source": [
    "### Text to Lower Case"
   ]
  },
  {
   "cell_type": "code",
   "execution_count": 31,
   "metadata": {},
   "outputs": [
    {
     "data": {
      "text/plain": [
       "0    worldcom ex-boss launches defence lawyers defe...\n",
       "1    german business confidence slides german busin...\n",
       "2    bbc poll indicates economic gloom citizens in ...\n",
       "3    lifestyle governs mobile choice faster better ...\n",
       "4    enron bosses in $168m payout eighteen former e...\n",
       "Name: text, dtype: object"
      ]
     },
     "execution_count": 31,
     "metadata": {},
     "output_type": "execute_result"
    }
   ],
   "source": [
    "df['text'] = df['text'].apply(lambda x: \" \".join(x.lower() for x in x.split()))\n",
    "df['text'].head()"
   ]
  },
  {
   "cell_type": "markdown",
   "metadata": {},
   "source": [
    "### Removing Punctuations"
   ]
  },
  {
   "cell_type": "code",
   "execution_count": 32,
   "metadata": {},
   "outputs": [
    {
     "data": {
      "text/plain": [
       "0    worldcom exboss launches defence lawyers defen...\n",
       "1    german business confidence slides german busin...\n",
       "2    bbc poll indicates economic gloom citizens in ...\n",
       "3    lifestyle governs mobile choice faster better ...\n",
       "4    enron bosses in 168m payout eighteen former en...\n",
       "Name: text, dtype: object"
      ]
     },
     "execution_count": 32,
     "metadata": {},
     "output_type": "execute_result"
    }
   ],
   "source": [
    "df['text'] = df['text'].str.replace(\"[^\\w\\s]\",\"\")\n",
    "df['text'].head()"
   ]
  },
  {
   "cell_type": "markdown",
   "metadata": {},
   "source": [
    "### Removing Stop Words"
   ]
  },
  {
   "cell_type": "code",
   "execution_count": 33,
   "metadata": {},
   "outputs": [
    {
     "data": {
      "text/plain": [
       "0    worldcom exboss launches defence lawyers defen...\n",
       "1    german business confidence slides german busin...\n",
       "2    bbc poll indicates economic gloom citizens maj...\n",
       "3    lifestyle governs mobile choice faster better ...\n",
       "4    enron bosses 168m payout eighteen former enron...\n",
       "Name: text, dtype: object"
      ]
     },
     "execution_count": 33,
     "metadata": {},
     "output_type": "execute_result"
    }
   ],
   "source": [
    "from nltk.corpus import stopwords\n",
    "stop = stopwords.words('english')\n",
    "\n",
    "df['text'] = df['text'].apply(lambda x: \" \".join(x for x in x.split() if x not in stop))\n",
    "df['text'].head()"
   ]
  },
  {
   "cell_type": "markdown",
   "metadata": {},
   "source": [
    "### Remove URLs"
   ]
  },
  {
   "cell_type": "code",
   "execution_count": 37,
   "metadata": {},
   "outputs": [],
   "source": [
    "def remove_url(text):\n",
    "    return re.sub(r'\\S*https?:\\S*','', text)"
   ]
  },
  {
   "cell_type": "code",
   "execution_count": 38,
   "metadata": {},
   "outputs": [
    {
     "data": {
      "text/plain": [
       "0    worldcom exboss launches defence lawyers defen...\n",
       "1    german business confidence slides german busin...\n",
       "2    bbc poll indicates economic gloom citizens maj...\n",
       "3    lifestyle governs mobile choice faster better ...\n",
       "4    enron bosses 168m payout eighteen former enron...\n",
       "Name: text, dtype: object"
      ]
     },
     "execution_count": 38,
     "metadata": {},
     "output_type": "execute_result"
    }
   ],
   "source": [
    "df['text'] = df['text'].apply(lambda x: remove_url(x))\n",
    "df['text'].head()"
   ]
  },
  {
   "cell_type": "markdown",
   "metadata": {},
   "source": [
    "### Remove HTML Tags"
   ]
  },
  {
   "cell_type": "code",
   "execution_count": 40,
   "metadata": {},
   "outputs": [],
   "source": [
    "def remove_html(text):\n",
    "    return re.sub(r\"<.*?>\",\"\", text)"
   ]
  },
  {
   "cell_type": "code",
   "execution_count": 41,
   "metadata": {},
   "outputs": [
    {
     "data": {
      "text/plain": [
       "0       worldcom exboss launches defence lawyers defen...\n",
       "1       german business confidence slides german busin...\n",
       "2       bbc poll indicates economic gloom citizens maj...\n",
       "3       lifestyle governs mobile choice faster better ...\n",
       "4       enron bosses 168m payout eighteen former enron...\n",
       "                              ...                        \n",
       "1485    double eviction big brother model caprice holb...\n",
       "1486    dj double act revamp chart show dj duo jk joel...\n",
       "1487    weak dollar hits reuters revenues media group ...\n",
       "1488    apple ipod family expands market apple expande...\n",
       "1489    santy worm makes unwelcome visit thousands web...\n",
       "Name: text, Length: 1490, dtype: object"
      ]
     },
     "execution_count": 41,
     "metadata": {},
     "output_type": "execute_result"
    }
   ],
   "source": [
    "df['text'] = df['text'].apply(lambda x: remove_html(x))\n",
    "df['text']"
   ]
  },
  {
   "cell_type": "markdown",
   "metadata": {},
   "source": [
    "### Remove Emoji's"
   ]
  },
  {
   "cell_type": "code",
   "execution_count": 44,
   "metadata": {},
   "outputs": [],
   "source": [
    "def remove_emoji(text):\n",
    "    return re.compile(\"[\"\n",
    "                               u\"\\U0001F600-\\U0001F64F\"  # emoticons\n",
    "                               u\"\\U0001F300-\\U0001F5FF\"  # symbols & pictographs\n",
    "                               u\"\\U0001F680-\\U0001F6FF\"  # transport & map symbols\n",
    "                               u\"\\U0001F1E0-\\U0001F1FF\"  # flags (iOS)\n",
    "                               u\"\\U00002500-\\U00002BEF\"  # chinese char\n",
    "                               u\"\\U00002702-\\U000027B0\"\n",
    "                               u\"\\U00002702-\\U000027B0\"\n",
    "                               u\"\\U000024C2-\\U0001F251\"\n",
    "                               u\"\\U0001f926-\\U0001f937\"\n",
    "                               u\"\\U00010000-\\U0010ffff\"\n",
    "                               u\"\\u2640-\\u2642\"\n",
    "                               u\"\\u2600-\\u2B55\"\n",
    "                               u\"\\u200d\"\n",
    "                               u\"\\u23cf\"\n",
    "                               u\"\\u23e9\"\n",
    "                               u\"\\u231a\"\n",
    "                               u\"\\ufe0f\"  # dingbats\n",
    "                               u\"\\u3030\"\n",
    "                               \"]+\", flags=re.UNICODE).sub(r'', text)"
   ]
  },
  {
   "cell_type": "code",
   "execution_count": 45,
   "metadata": {},
   "outputs": [
    {
     "data": {
      "text/plain": [
       "0    worldcom exboss launches defence lawyers defen...\n",
       "1    german business confidence slides german busin...\n",
       "2    bbc poll indicates economic gloom citizens maj...\n",
       "3    lifestyle governs mobile choice faster better ...\n",
       "4    enron bosses 168m payout eighteen former enron...\n",
       "Name: text, dtype: object"
      ]
     },
     "execution_count": 45,
     "metadata": {},
     "output_type": "execute_result"
    }
   ],
   "source": [
    "df['text'] = df['text'].apply(lambda x: remove_emoji(x))\n",
    "df['text'].head()"
   ]
  },
  {
   "cell_type": "markdown",
   "metadata": {},
   "source": [
    "### Spell Correction"
   ]
  },
  {
   "cell_type": "code",
   "execution_count": 46,
   "metadata": {},
   "outputs": [
    {
     "data": {
      "text/plain": [
       "0    worldcom excess launched defence lawyers defen...\n",
       "1    german business confidence sides german busine...\n",
       "2    bc poll indicates economic gloom citizens majo...\n",
       "3    lifestyle governs mobile choice faster better ...\n",
       "4    union bosses 168m layout eighteen former union...\n",
       "Name: text, dtype: object"
      ]
     },
     "execution_count": 46,
     "metadata": {},
     "output_type": "execute_result"
    }
   ],
   "source": [
    "from textblob import TextBlob\n",
    "df['text'][:5].apply(lambda x: str(TextBlob(x).correct()))"
   ]
  },
  {
   "cell_type": "code",
   "execution_count": null,
   "metadata": {},
   "outputs": [],
   "source": []
  },
  {
   "cell_type": "code",
   "execution_count": 39,
   "metadata": {},
   "outputs": [
    {
     "data": {
      "text/plain": [
       "52"
      ]
     },
     "execution_count": 39,
     "metadata": {},
     "output_type": "execute_result"
    }
   ],
   "source": [
    "df['text'][df['text'].duplicated()==True].count()"
   ]
  },
  {
   "cell_type": "code",
   "execution_count": null,
   "metadata": {},
   "outputs": [
    {
     "data": {
      "text/plain": [
       "<AxesSubplot: >"
      ]
     },
     "execution_count": 20,
     "metadata": {},
     "output_type": "execute_result"
    },
    {
     "data": {
      "image/png": "[encoded data removed]",
      "text/plain": [
       "<Figure size 640x480 with 1 Axes>"
      ]
     },
     "metadata": {},
     "output_type": "display_data"
    }
   ],
   "source": [
    "df['Category'].value_counts().plot(kind='bar')"
   ]
  },
  {
   "cell_type": "code",
   "execution_count": null,
   "metadata": {},
   "outputs": [
    {
     "data": {
      "image/png": "[encoded data removed]",
      "text/plain": [
       "<Figure size 400x300 with 1 Axes>"
      ]
     },
     "metadata": {},
     "output_type": "display_data"
    }
   ],
   "source": [
    "plt.figure(figsize=(4,3))\n",
    "df['Text'].str.len().hist()\n",
    "plt.xlim([0,6500])\n",
    "plt.title(\"Histogram of Sentence Length\")\n",
    "plt.show()"
   ]
  },
  {
   "cell_type": "code",
   "execution_count": null,
   "metadata": {},
   "outputs": [
    {
     "data": {
      "image/png": "[encoded data removed]",
      "text/plain": [
       "<Figure size 400x400 with 1 Axes>"
      ]
     },
     "metadata": {},
     "output_type": "display_data"
    }
   ],
   "source": [
    "plt.figure(figsize=(4,4))\n",
    "plt.title(\"Histogram of Number of Words in Each Sentence\")\n",
    "df['Text'].str.split().map(lambda x: len(x)).hist(bins=100)\n",
    "plt.xlim([0,1200])\n",
    "plt.show()"
   ]
  },
  {
   "cell_type": "code",
   "execution_count": null,
   "metadata": {},
   "outputs": [
    {
     "data": {
      "image/png": "[encoded data removed]",
      "text/plain": [
       "<Figure size 400x400 with 1 Axes>"
      ]
     },
     "metadata": {},
     "output_type": "display_data"
    }
   ],
   "source": [
    "plt.figure(figsize=(4,4))\n",
    "df['Text'].str.split().apply(lambda x: [len(i) for i in x]).map(lambda x: np.mean(x)).hist()\n",
    "plt.title(\"Histogram of Average Word Length in Each Sentence\")\n",
    "plt.show()"
   ]
  },
  {
   "cell_type": "markdown",
   "metadata": {},
   "source": [
    "From the Above figure we can conclude below\n",
    "* Each Sentence length in a news article is ranging from 500 to 6000\n",
    "* The number of words in each sentence is ranging from 100 to 1100\n",
    "* Average Word length in each sentence is ranging from 3.5 to 5.5"
   ]
  },
  {
   "cell_type": "code",
   "execution_count": null,
   "metadata": {},
   "outputs": [
    {
     "data": {
      "text/plain": [
       "'prince crowned  top music earner  prince earned more than any other pop star in 2004  beating artists such madonna and elton john in us magazine rolling stone s annual list.  the singer banked $56.5m (£30.4m) from concerts  album and publishing sales with his musicology tour and album. he kept madonna in second place  as she earned $54.9m (£29.5m) while embarking on her global re-invention tour. veterans simon and garfunkel were in 10th place  their comeback tour helping them earn $24.9m (£13.4m) last year.   prince returned to centre stage after a decade in the commercial wilderness   the magazine reported. the singer s 2004 tour took $90.3m (£48.5m) in ticket sales and he sold 1.9 million copies of his latest album musicology.  although she grossed more than prince last year  madonna remained in second place because of the  monumental  production costs of her tour. heavy metal band metallica s madly in anger with the world tour helped push their 2004 earnings up to $43.1m (£23.1m). they were ahead of sir elton john  who took fourth place and almost $42.7m (£23m) from performances including a debut on the las vegas strip. other seasoned performers in the list included rod stewart  whose sold-out shows and third volume of the great american songbook covers album helped net him £35m (£19m). the highest-ranking rap act in the list was 50 cent  who at number 19 took $24m (£13m) to the bank.'"
      ]
     },
     "execution_count": 50,
     "metadata": {},
     "output_type": "execute_result"
    }
   ],
   "source": [
    "sample = df['Text'].sample(1).values[0]\n",
    "sample"
   ]
  },
  {
   "cell_type": "code",
   "execution_count": null,
   "metadata": {},
   "outputs": [
    {
     "data": {
      "text/plain": [
       "'prince crowned top music earner prince earned more than any other pop star in 2004 beating artists such madonna and elton john in us magazine rolling stone s annual list. the singer banked $56.5m (£30.4m) from concerts album and publishing sales with his musicology tour and album. he kept madonna in second place as she earned $54.9m (£29.5m) while embarking on her global re-invention tour. veterans simon and garfunkel were in 10th place their comeback tour helping them earn $24.9m (£13.4m) last year. prince returned to centre stage after a decade in the commercial wilderness the magazine reported. the singer s 2004 tour took $90.3m (£48.5m) in ticket sales and he sold 1.9 million copies of his latest album musicology. although she grossed more than prince last year madonna remained in second place because of the monumental production costs of her tour. heavy metal band metallica s madly in anger with the world tour helped push their 2004 earnings up to $43.1m (£23.1m). they were ahead of sir elton john who took fourth place and almost $42.7m (£23m) from performances including a debut on the las vegas strip. other seasoned performers in the list included rod stewart whose sold-out shows and third volume of the great american songbook covers album helped net him £35m (£19m). the highest-ranking rap act in the list was 50 cent who at number 19 took $24m (£13m) to the bank.'"
      ]
     },
     "execution_count": 51,
     "metadata": {},
     "output_type": "execute_result"
    }
   ],
   "source": [
    "sample = \" \".join([x.lower() for x in sample.split()])\n",
    "sample"
   ]
  },
  {
   "cell_type": "code",
   "execution_count": null,
   "metadata": {},
   "outputs": [
    {
     "data": {
      "text/plain": [
       "['chinese',\n",
       " 'exports',\n",
       " 'rise',\n",
       " '25%',\n",
       " 'in',\n",
       " '2004',\n",
       " 'exports',\n",
       " 'from',\n",
       " 'china',\n",
       " 'leapt',\n",
       " 'during',\n",
       " '2004',\n",
       " 'over',\n",
       " 'the',\n",
       " 'previous',\n",
       " 'year',\n",
       " 'as',\n",
       " 'the',\n",
       " 'country',\n",
       " 'continued',\n",
       " 'to',\n",
       " 'show',\n",
       " 'breakneck',\n",
       " 'growth.',\n",
       " 'the',\n",
       " 'spurt',\n",
       " 'put',\n",
       " 'china',\n",
       " 's',\n",
       " 'trade',\n",
       " 'surplus',\n",
       " '-',\n",
       " 'a',\n",
       " 'sore',\n",
       " 'point',\n",
       " 'with',\n",
       " 'some',\n",
       " 'of',\n",
       " 'its',\n",
       " 'trading',\n",
       " 'partners',\n",
       " '-',\n",
       " 'at',\n",
       " 'a',\n",
       " 'six-year',\n",
       " 'high.',\n",
       " 'it',\n",
       " 'may',\n",
       " 'also',\n",
       " 'increase',\n",
       " 'pressure',\n",
       " 'on',\n",
       " 'china',\n",
       " 'to',\n",
       " 'relax',\n",
       " 'the',\n",
       " 'peg',\n",
       " 'joining',\n",
       " 'its',\n",
       " 'currency',\n",
       " 'the',\n",
       " 'yuan',\n",
       " 'with',\n",
       " 'the',\n",
       " 'weakening',\n",
       " 'dollar.',\n",
       " 'the',\n",
       " 'figures',\n",
       " 'released',\n",
       " 'by',\n",
       " 'the',\n",
       " 'ministry',\n",
       " 'of',\n",
       " 'commerce',\n",
       " 'come',\n",
       " 'as',\n",
       " 'china',\n",
       " 's',\n",
       " 'tax',\n",
       " 'chief',\n",
       " 'confirmed',\n",
       " 'that',\n",
       " 'growth',\n",
       " 'had',\n",
       " 'topped',\n",
       " '9%',\n",
       " 'in',\n",
       " '2004',\n",
       " 'for',\n",
       " 'the',\n",
       " 'second',\n",
       " 'year',\n",
       " 'in',\n",
       " 'a',\n",
       " 'row.',\n",
       " 'state',\n",
       " 'administration',\n",
       " 'of',\n",
       " 'taxation',\n",
       " 'head',\n",
       " 'xie',\n",
       " 'xuren',\n",
       " 'said',\n",
       " 'a',\n",
       " 'tightening',\n",
       " 'of',\n",
       " 'controls',\n",
       " 'on',\n",
       " 'tax',\n",
       " 'evasion',\n",
       " 'had',\n",
       " 'combined',\n",
       " 'with',\n",
       " 'the',\n",
       " 'rapid',\n",
       " 'expansion',\n",
       " 'to',\n",
       " 'produce',\n",
       " 'a',\n",
       " '25.7%',\n",
       " 'rise',\n",
       " 'in',\n",
       " 'tax',\n",
       " 'revenues',\n",
       " 'to',\n",
       " '2.572',\n",
       " 'trillion',\n",
       " 'yuan',\n",
       " '($311bn;',\n",
       " '£165bn).',\n",
       " 'according',\n",
       " 'to',\n",
       " 'the',\n",
       " 'ministry',\n",
       " 'of',\n",
       " 'commerce',\n",
       " 'china',\n",
       " 's',\n",
       " 'exports',\n",
       " 'totalled',\n",
       " '$63.8bn',\n",
       " 'in',\n",
       " 'december',\n",
       " 'taking',\n",
       " 'the',\n",
       " 'annual',\n",
       " 'total',\n",
       " 'up',\n",
       " '35.4%',\n",
       " 'to',\n",
       " '$593.4bn.',\n",
       " 'with',\n",
       " 'imports',\n",
       " 'rising',\n",
       " 'a',\n",
       " 'similar',\n",
       " 'amount',\n",
       " 'the',\n",
       " 'deficit',\n",
       " 'rose',\n",
       " 'to',\n",
       " '$43.4bn.',\n",
       " 'the',\n",
       " 'increased',\n",
       " 'tax',\n",
       " 'take',\n",
       " 'comes',\n",
       " 'despite',\n",
       " 'healthy',\n",
       " 'tax',\n",
       " 'rebates',\n",
       " 'for',\n",
       " 'many',\n",
       " 'exporters',\n",
       " 'totalling',\n",
       " '420bn',\n",
       " 'yuan',\n",
       " 'in',\n",
       " '2004',\n",
       " 'according',\n",
       " 'to',\n",
       " 'mr',\n",
       " 'xie.',\n",
       " 'china',\n",
       " 's',\n",
       " 'exporting',\n",
       " 'success',\n",
       " 'has',\n",
       " 'made',\n",
       " 'the',\n",
       " 'trade',\n",
       " 'deficit',\n",
       " 'of',\n",
       " 'the',\n",
       " 'united',\n",
       " 'states',\n",
       " 'soar',\n",
       " 'even',\n",
       " 'further',\n",
       " 'and',\n",
       " 'made',\n",
       " 'trade',\n",
       " 'with',\n",
       " 'china',\n",
       " 'a',\n",
       " 'sensitive',\n",
       " 'political',\n",
       " 'issue',\n",
       " 'in',\n",
       " 'washington.',\n",
       " 'the',\n",
       " 'peg',\n",
       " 'keeping',\n",
       " 'the',\n",
       " 'yuan',\n",
       " 'around',\n",
       " '8.30',\n",
       " 'to',\n",
       " 'the',\n",
       " 'dollar',\n",
       " 'is',\n",
       " 'often',\n",
       " 'blamed',\n",
       " 'by',\n",
       " 'us',\n",
       " 'lawmakers',\n",
       " 'for',\n",
       " 'job',\n",
       " 'losses',\n",
       " 'at',\n",
       " 'home.',\n",
       " 'a',\n",
       " 'us',\n",
       " 'report',\n",
       " 'issued',\n",
       " 'on',\n",
       " 'tuesday',\n",
       " 'on',\n",
       " 'behalf',\n",
       " 'of',\n",
       " 'a',\n",
       " 'congressionally-mandated',\n",
       " 'panel',\n",
       " 'said',\n",
       " 'almost',\n",
       " '1.5',\n",
       " 'million',\n",
       " 'posts',\n",
       " 'disappeared',\n",
       " 'between',\n",
       " '1989',\n",
       " 'and',\n",
       " '2003.',\n",
       " 'the',\n",
       " 'pace',\n",
       " 'accelerated',\n",
       " 'in',\n",
       " 'the',\n",
       " 'final',\n",
       " 'three',\n",
       " 'years',\n",
       " 'of',\n",
       " 'the',\n",
       " 'period',\n",
       " 'said',\n",
       " 'the',\n",
       " 'report',\n",
       " 'for',\n",
       " 'the',\n",
       " 'us-china',\n",
       " 'economic',\n",
       " 'and',\n",
       " 'security',\n",
       " 'review',\n",
       " 'commission',\n",
       " 'moving',\n",
       " 'out',\n",
       " 'of',\n",
       " 'labour-intensive',\n",
       " 'industries',\n",
       " 'and',\n",
       " 'into',\n",
       " 'more',\n",
       " 'hi-tech',\n",
       " 'sectors.',\n",
       " 'the',\n",
       " 'us',\n",
       " 's',\n",
       " 'overall',\n",
       " 'trade',\n",
       " 'deficit',\n",
       " 'with',\n",
       " 'china',\n",
       " 'was',\n",
       " '$124bn',\n",
       " 'in',\n",
       " '2003',\n",
       " 'and',\n",
       " 'is',\n",
       " 'expected',\n",
       " 'to',\n",
       " 'rise',\n",
       " 'to',\n",
       " 'about',\n",
       " '$150bn',\n",
       " 'for',\n",
       " '2004.']"
      ]
     },
     "execution_count": 45,
     "metadata": {},
     "output_type": "execute_result"
    }
   ],
   "source": [
    "sample"
   ]
  }
 ],
 "metadata": {
  "kernelspec": {
   "display_name": "Python 3.9.15 (conda)",
   "language": "python",
   "name": "python3"
  },
  "language_info": {
   "codemirror_mode": {
    "name": "ipython",
    "version": 3
   },
   "file_extension": ".py",
   "mimetype": "text/x-python",
   "name": "python",
   "nbconvert_exporter": "python",
   "pygments_lexer": "ipython3",
   "version": "3.9.15"
  },
  "orig_nbformat": 4,
  "vscode": {
   "interpreter": {
    "hash": "1762875d695c3b8ce31fc2c385c40c45ae7c7b01a87f50658d419512c57bca88"
   }
  }
 },
 "nbformat": 4,
 "nbformat_minor": 2
}
