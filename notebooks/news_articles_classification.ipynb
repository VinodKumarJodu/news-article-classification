{
 "cells": [
  {
   "cell_type": "markdown",
   "metadata": {},
   "source": [
    "# Problem Statement:\n",
    "In today’s world, data is power. With News companies having terabytes of data stored in\n",
    "servers, everyone is in the quest to discover insights that add value to the organization.\n",
    "With various examples to quote in which analytics is being used to drive actions, one that\n",
    "stands out is news article classification.\n",
    "Nowadays on the Internet there are a lot of sources that generate immense amounts of\n",
    "daily news. In addition, the demand for information by users has been growing\n",
    "continuously, so it is crucial that the news is classified to allow users to access the\n",
    "information of interest quickly and effectively. This way, the machine learning model for\n",
    "automated news classification could be used to identify topics of untracked news and/or\n",
    "make individual suggestions based on the user’s prior interests."
   ]
  },
  {
   "cell_type": "markdown",
   "metadata": {},
   "source": []
  }
 ],
 "metadata": {
  "kernelspec": {
   "display_name": "Python 3.9.15 (conda)",
   "language": "python",
   "name": "python3"
  },
  "language_info": {
   "name": "python",
   "version": "3.9.15"
  },
  "orig_nbformat": 4,
  "vscode": {
   "interpreter": {
    "hash": "1762875d695c3b8ce31fc2c385c40c45ae7c7b01a87f50658d419512c57bca88"
   }
  }
 },
 "nbformat": 4,
 "nbformat_minor": 2
}
